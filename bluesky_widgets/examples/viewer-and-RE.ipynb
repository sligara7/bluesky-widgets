{
 "cells": [
  {
   "cell_type": "code",
   "execution_count": 1,
   "metadata": {},
   "outputs": [],
   "source": [
    "from bluesky import RunEngine\n",
    "from bluesky.plans import scan\n",
    "from ophyd.sim import motor, det\n",
    "from bluesky_widgets.utils.streaming import connect_dispatcher_to_list_of_runs\n",
    "from bluesky_widgets.models.plot_builders import LastNLines\n",
    "from bluesky_widgets.jupyter.figures import JupyterFigures\n",
    "RE = RunEngine()\n",
    "model = LastNLines(\"motor\", \"det\", 3)\n",
    "view = JupyterFigures(model.figures)\n",
    "connect_dispatcher_to_list_of_runs(RE.dispatcher, model.runs)"
   ]
  },
  {
   "cell_type": "code",
   "execution_count": 2,
   "metadata": {},
   "outputs": [
    {
     "data": {
      "application/vnd.jupyter.widget-view+json": {
       "model_id": "2f85a0c07d0841478ff583b467191540",
       "version_major": 2,
       "version_minor": 0
      },
      "text/plain": [
       "JupyterFigures()"
      ]
     },
     "metadata": {},
     "output_type": "display_data"
    }
   ],
   "source": [
    "view"
   ]
  },
  {
   "cell_type": "code",
   "execution_count": 4,
   "metadata": {},
   "outputs": [],
   "source": [
    "motor.delay = 0.1  # Turn up simulated motor movement delay."
   ]
  },
  {
   "cell_type": "code",
   "execution_count": 3,
   "metadata": {},
   "outputs": [],
   "source": [
    "def plan():\n",
    "    for i in range(1, 5):\n",
    "        yield from scan([det], motor, -1, 1, 1 + 2 * i)"
   ]
  },
  {
   "cell_type": "code",
   "execution_count": 4,
   "metadata": {},
   "outputs": [
    {
     "data": {
      "text/plain": [
       "('dad2e9ce-d84a-4393-9b3d-09de0bfaec70',\n",
       " '56972070-9fe2-4e87-bc78-2042cdcd18fb',\n",
       " '7b413171-0323-475d-987b-d03ab3f421cd',\n",
       " '37eb0734-ab8c-44c5-a17e-911be76902eb')"
      ]
     },
     "execution_count": 4,
     "metadata": {},
     "output_type": "execute_result"
    }
   ],
   "source": [
    "RE(plan())"
   ]
  },
  {
   "cell_type": "code",
   "execution_count": 7,
   "metadata": {},
   "outputs": [],
   "source": [
    "view.model[0].axes_specs[0].by_label[\"Scan 4\"][0].artist_kwargs.update(color=\"blue\")"
   ]
  },
  {
   "cell_type": "code",
   "execution_count": null,
   "metadata": {},
   "outputs": [],
   "source": []
  }
 ],
 "metadata": {
  "kernelspec": {
   "display_name": "Python 3",
   "language": "python",
   "name": "python3"
  },
  "language_info": {
   "codemirror_mode": {
    "name": "ipython",
    "version": 3
   },
   "file_extension": ".py",
   "mimetype": "text/x-python",
   "name": "python",
   "nbconvert_exporter": "python",
   "pygments_lexer": "ipython3",
   "version": "3.8.5"
  }
 },
 "nbformat": 4,
 "nbformat_minor": 4
}
