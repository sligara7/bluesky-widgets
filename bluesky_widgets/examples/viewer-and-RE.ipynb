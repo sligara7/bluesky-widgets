{
 "cells": [
  {
   "cell_type": "code",
   "execution_count": 1,
   "metadata": {},
   "outputs": [],
   "source": [
    "from bluesky import RunEngine\n",
    "from bluesky.plans import scan\n",
    "from ophyd.sim import motor, det\n",
    "from bluesky_widgets.utils.streaming import connect_dispatcher_to_list_of_runs\n",
    "from bluesky_widgets.models.plot_builders import LastNLines\n",
    "from bluesky_widgets.jupyter.viewer import JupyterFigures\n",
    "RE = RunEngine()\n",
    "model = LastNLines(\"motor\", \"det\", 3)\n",
    "view = JupyterFigures(model.figures)\n",
    "connect_dispatcher_to_list_of_runs(RE.dispatcher, model.runs)"
   ]
  },
  {
   "cell_type": "code",
   "execution_count": 2,
   "metadata": {},
   "outputs": [
    {
     "data": {
      "application/vnd.jupyter.widget-view+json": {
       "model_id": "074c6d32066a4b7db6658c6ed7e4db88",
       "version_major": 2,
       "version_minor": 0
      },
      "text/plain": [
       "JupyterFigures()"
      ]
     },
     "metadata": {},
     "output_type": "display_data"
    }
   ],
   "source": [
    "view"
   ]
  },
  {
   "cell_type": "code",
   "execution_count": 3,
   "metadata": {},
   "outputs": [],
   "source": [
    "motor.delay = 1  # Turn up simulated motor movement delay."
   ]
  },
  {
   "cell_type": "code",
   "execution_count": 4,
   "metadata": {},
   "outputs": [],
   "source": [
    "def plan():\n",
    "    for i in range(1, 5):\n",
    "        yield from scan([det], motor, -1, 1, 1 + 2 * i)"
   ]
  },
  {
   "cell_type": "code",
   "execution_count": 5,
   "metadata": {},
   "outputs": [
    {
     "name": "stderr",
     "output_type": "stream",
     "text": [
      "--- Logging error ---\n",
      "Traceback (most recent call last):\n",
      "  File \"/home/dallan/Repos/bnl/bluesky-widgets/bluesky_widgets/utils/event.py\", line 514, in _invoke_callback\n",
      "    cb(event)\n",
      "  File \"/home/dallan/Repos/bnl/bluesky-widgets/bluesky_widgets/jupyter/viewer.py\", line 153, in _on_artist_removed\n",
      "    self.type_map[artist_spec].pop(artist_spec.uuid)\n",
      "KeyError: <unprintable KeyError object>\n",
      "\n",
      "During handling of the above exception, another exception occurred:\n",
      "\n",
      "Traceback (most recent call last):\n",
      "  File \"/home/dallan/miniconda3/envs/py38/lib/python3.8/logging/__init__.py\", line 1081, in emit\n",
      "    msg = self.format(record)\n",
      "  File \"/home/dallan/miniconda3/envs/py38/lib/python3.8/logging/__init__.py\", line 925, in format\n",
      "    return fmt.format(record)\n",
      "  File \"/home/dallan/miniconda3/envs/py38/lib/python3.8/logging/__init__.py\", line 664, in format\n",
      "    record.message = record.getMessage()\n",
      "  File \"/home/dallan/miniconda3/envs/py38/lib/python3.8/logging/__init__.py\", line 369, in getMessage\n",
      "    msg = msg % self.args\n",
      "  File \"/home/dallan/Repos/bnl/bluesky-widgets/bluesky_widgets/utils/event.py\", line 177, in __repr__\n",
      "    attrs.append(\"%s=%s\" % (name, attr))\n",
      "  File \"/home/dallan/Repos/bnl/bluesky-widgets/bluesky_widgets/utils/list.py\", line 65, in __repr__\n",
      "    return f\"{self.__class__.__name__}({self.__internal_list})\"\n",
      "  File \"/home/dallan/Repos/bnl/bluesky-widgets/bluesky_widgets/models/plot_specs.py\", line 177, in __repr__\n",
      "    f\"{self.__class__.__name__}(func={self.func!r}, run={self.run!r}, \"\n",
      "  File \"/home/dallan/Repos/bnl/bluesky-widgets/bluesky_widgets/models/plot_specs.py\", line 109, in __repr__\n",
      "    f\"{self.__class__.__name__}(artists={self._artists!r}, \"\n",
      "AttributeError: 'AxesSpec' object has no attribute '_artists'\n",
      "Call stack:\n",
      "  File \"/home/dallan/miniconda3/envs/py38/lib/python3.8/threading.py\", line 890, in _bootstrap\n",
      "    self._bootstrap_inner()\n",
      "  File \"/home/dallan/miniconda3/envs/py38/lib/python3.8/threading.py\", line 932, in _bootstrap_inner\n",
      "    self.run()\n",
      "  File \"/home/dallan/miniconda3/envs/py38/lib/python3.8/threading.py\", line 870, in run\n",
      "    self._target(*self._args, **self._kwargs)\n",
      "  File \"/home/dallan/miniconda3/envs/py38/lib/python3.8/asyncio/base_events.py\", line 570, in run_forever\n",
      "    self._run_once()\n",
      "  File \"/home/dallan/miniconda3/envs/py38/lib/python3.8/asyncio/base_events.py\", line 1859, in _run_once\n",
      "    handle._run()\n",
      "  File \"/home/dallan/miniconda3/envs/py38/lib/python3.8/asyncio/events.py\", line 81, in _run\n",
      "    self._context.run(self._callback, *self._args)\n",
      "  File \"/home/dallan/Repos/bnl/bluesky/bluesky/run_engine.py\", line 1425, in _run\n",
      "    new_response = await coro(msg)\n",
      "  File \"/home/dallan/Repos/bnl/bluesky/bluesky/run_engine.py\", line 1748, in _save\n",
      "    await current_run.save(msg)\n",
      "  File \"/home/dallan/Repos/bnl/bluesky/bluesky/bundlers.py\", line 418, in save\n",
      "    await self.emit(DocumentNames.descriptor, descriptor_doc)\n",
      "  File \"/home/dallan/Repos/bnl/bluesky/bluesky/run_engine.py\", line 2272, in emit\n",
      "    self.emit_sync(name, doc)\n",
      "  File \"/home/dallan/Repos/bnl/bluesky/bluesky/run_engine.py\", line 2269, in emit_sync\n",
      "    self.dispatcher.process(name, doc)\n",
      "  File \"/home/dallan/Repos/bnl/bluesky/bluesky/run_engine.py\", line 2292, in process\n",
      "    exceptions = self.cb_registry.process(name, name.name, doc)\n",
      "  File \"/home/dallan/Repos/bnl/bluesky/bluesky/utils.py\", line 377, in process\n",
      "    func(*args, **kwargs)\n",
      "  File \"/home/dallan/Repos/bnl/bluesky/bluesky/utils.py\", line 466, in __call__\n",
      "    return mtd(*args, **kwargs)\n",
      "  File \"/home/dallan/Repos/bnl/event-model/event_model/__init__.py\", line 113, in __call__\n",
      "    return self._dispatch(name, doc, validate)\n",
      "  File \"/home/dallan/Repos/bnl/event-model/event_model/__init__.py\", line 121, in _dispatch\n",
      "    output_doc = getattr(self, name)(doc)\n",
      "  File \"/home/dallan/Repos/bnl/event-model/event_model/__init__.py\", line 1327, in descriptor\n",
      "    callback('descriptor', descriptor_doc)\n",
      "  File \"/home/dallan/Repos/bnl/event-model/event_model/__init__.py\", line 269, in __call__\n",
      "    return super().__call__(name, doc, validate)\n",
      "  File \"/home/dallan/Repos/bnl/event-model/event_model/__init__.py\", line 113, in __call__\n",
      "    return self._dispatch(name, doc, validate)\n",
      "  File \"/home/dallan/Repos/bnl/event-model/event_model/__init__.py\", line 121, in _dispatch\n",
      "    output_doc = getattr(self, name)(doc)\n",
      "  File \"/home/dallan/Repos/bnl/bluesky-live/bluesky_live/bluesky_run.py\", line 92, in descriptor\n",
      "    self.events.new_stream(name=name)\n",
      "  File \"/home/dallan/Repos/bnl/bluesky-live/bluesky_live/event.py\", line 499, in __call__\n",
      "    self._invoke_callback(cb, event)\n",
      "  File \"/home/dallan/Repos/bnl/bluesky-live/bluesky_live/event.py\", line 514, in _invoke_callback\n",
      "    cb(event)\n",
      "  File \"/home/dallan/Repos/bnl/bluesky-live/bluesky_live/bluesky_run.py\", line 193, in on_new_stream\n",
      "    self.events.new_stream(name=event.name, run=self)\n",
      "  File \"/home/dallan/Repos/bnl/bluesky-live/bluesky_live/event.py\", line 499, in __call__\n",
      "    self._invoke_callback(cb, event)\n",
      "  File \"/home/dallan/Repos/bnl/bluesky-live/bluesky_live/event.py\", line 514, in _invoke_callback\n",
      "    cb(event)\n",
      "  File \"/home/dallan/Repos/bnl/bluesky-widgets/bluesky_widgets/models/plot_builders.py\", line 156, in _on_new_stream\n",
      "    self._add_line(event.run)\n",
      "  File \"/home/dallan/Repos/bnl/bluesky-widgets/bluesky_widgets/models/plot_builders.py\", line 108, in _add_line\n",
      "    axes_spec.lines.pop(0)\n",
      "  File \"/home/dallan/Repos/bnl/bluesky-widgets/bluesky_widgets/utils/list.py\", line 48, in pop\n",
      "    self.events.removed(item=obj, index=index)\n",
      "  File \"/home/dallan/Repos/bnl/bluesky-widgets/bluesky_widgets/utils/event.py\", line 499, in __call__\n",
      "    self._invoke_callback(cb, event)\n",
      "  File \"/home/dallan/Repos/bnl/bluesky-widgets/bluesky_widgets/utils/event.py\", line 516, in _invoke_callback\n",
      "    logger.exception(\"Error in callback %r processing Event %r\", cb, event)\n",
      "Unable to print the message and arguments - possible formatting error.\n",
      "Use the traceback above to help find the error.\n"
     ]
    },
    {
     "data": {
      "text/plain": [
       "('38bd17d5-60e5-4728-bbe3-036455c66e0e',\n",
       " 'aaadc277-f11e-4f3b-8da8-d8d1e8c00682',\n",
       " 'f92b2120-f497-4065-8644-aef3946ee2d8',\n",
       " '581081d2-1b46-42d1-9b33-dafc3e629d7f')"
      ]
     },
     "execution_count": 5,
     "metadata": {},
     "output_type": "execute_result"
    }
   ],
   "source": [
    "RE(plan())"
   ]
  },
  {
   "cell_type": "code",
   "execution_count": null,
   "metadata": {},
   "outputs": [],
   "source": []
  }
 ],
 "metadata": {
  "kernelspec": {
   "display_name": "Python 3",
   "language": "python",
   "name": "python3"
  },
  "language_info": {
   "codemirror_mode": {
    "name": "ipython",
    "version": 3
   },
   "file_extension": ".py",
   "mimetype": "text/x-python",
   "name": "python",
   "nbconvert_exporter": "python",
   "pygments_lexer": "ipython3",
   "version": "3.8.5"
  }
 },
 "nbformat": 4,
 "nbformat_minor": 4
}
