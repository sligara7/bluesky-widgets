{
 "cells": [
  {
   "cell_type": "code",
   "execution_count": 9,
   "metadata": {},
   "outputs": [],
   "source": [
    "from bluesky import RunEngine\n",
    "from bluesky.plans import scan\n",
    "from ophyd.sim import motor, det\n",
    "from bluesky_widgets.examples.jupyter_viewer import ExampleApp\n",
    "from bluesky_widgets.utils.streaming import connect_dispatcher_to_list_of_runs\n",
    "\n",
    "app = ExampleApp()\n",
    "RE = RunEngine()\n",
    "connect_dispatcher_to_list_of_runs(RE.dispatcher, app.viewer.runs)"
   ]
  },
  {
   "cell_type": "code",
   "execution_count": 10,
   "metadata": {},
   "outputs": [
    {
     "data": {
      "application/vnd.jupyter.widget-view+json": {
       "model_id": "0080a2f5ec93418190e25ca8966ad0b6",
       "version_major": 2,
       "version_minor": 0
      },
      "text/plain": [
       "JupyterViewer(children=(_JupyterViewerTabs(),))"
      ]
     },
     "metadata": {},
     "output_type": "display_data"
    }
   ],
   "source": [
    "app"
   ]
  },
  {
   "cell_type": "code",
   "execution_count": 6,
   "metadata": {},
   "outputs": [],
   "source": [
    "motor.delay = 1  # Turn up simulated motor movement delay."
   ]
  },
  {
   "cell_type": "code",
   "execution_count": 13,
   "metadata": {},
   "outputs": [],
   "source": [
    "def plan():\n",
    "    for i in range(1, 5):\n",
    "        yield from scan([det], motor, -1, 1, 1 + 2 * i)"
   ]
  },
  {
   "cell_type": "code",
   "execution_count": 14,
   "metadata": {},
   "outputs": [
    {
     "data": {
      "text/plain": [
       "('58989042-93d7-4803-93f5-51cc4346ef36',\n",
       " '22499264-d8a5-4c0d-bf17-5782358313a8',\n",
       " '2aec4ca3-48af-48a7-9491-76c7a9b9ff68',\n",
       " '26f27317-1f42-4870-afb3-1183da146e16')"
      ]
     },
     "execution_count": 14,
     "metadata": {},
     "output_type": "execute_result"
    }
   ],
   "source": [
    "RE(plan())"
   ]
  },
  {
   "cell_type": "code",
   "execution_count": null,
   "metadata": {},
   "outputs": [],
   "source": []
  }
 ],
 "metadata": {
  "kernelspec": {
   "display_name": "Python 3",
   "language": "python",
   "name": "python3"
  },
  "language_info": {
   "codemirror_mode": {
    "name": "ipython",
    "version": 3
   },
   "file_extension": ".py",
   "mimetype": "text/x-python",
   "name": "python",
   "nbconvert_exporter": "python",
   "pygments_lexer": "ipython3",
   "version": "3.8.5"
  }
 },
 "nbformat": 4,
 "nbformat_minor": 4
}
