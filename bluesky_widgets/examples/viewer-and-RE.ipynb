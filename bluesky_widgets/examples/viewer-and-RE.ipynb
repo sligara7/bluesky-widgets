{
 "cells": [
  {
   "cell_type": "code",
   "execution_count": 1,
   "metadata": {},
   "outputs": [],
   "source": [
    "from bluesky import RunEngine\n",
    "from bluesky.plans import scan\n",
    "from ophyd.sim import motor, det\n",
    "from bluesky_widgets.utils.streaming import connect_dispatcher_to_list_of_runs\n",
    "from bluesky_widgets.models.plot_builders import LastNLines\n",
    "from bluesky_widgets.jupyter.viewer import JupyterFigures\n",
    "RE = RunEngine()\n",
    "model = LastNLines(\"motor\", \"det\", 3)\n",
    "view = JupyterFigures(model.figures)\n",
    "connect_dispatcher_to_list_of_runs(RE.dispatcher, model.runs)"
   ]
  },
  {
   "cell_type": "code",
   "execution_count": 2,
   "metadata": {},
   "outputs": [
    {
     "data": {
      "application/vnd.jupyter.widget-view+json": {
       "model_id": "40ac3b2675bb418fb4941ac3fdb0788c",
       "version_major": 2,
       "version_minor": 0
      },
      "text/plain": [
       "JupyterFigures()"
      ]
     },
     "metadata": {},
     "output_type": "display_data"
    }
   ],
   "source": [
    "view"
   ]
  },
  {
   "cell_type": "code",
   "execution_count": 3,
   "metadata": {},
   "outputs": [],
   "source": [
    "motor.delay = 0.1  # Turn up simulated motor movement delay."
   ]
  },
  {
   "cell_type": "code",
   "execution_count": 4,
   "metadata": {},
   "outputs": [],
   "source": [
    "def plan():\n",
    "    for i in range(1, 5):\n",
    "        yield from scan([det], motor, -1, 1, 1 + 2 * i)"
   ]
  },
  {
   "cell_type": "code",
   "execution_count": 6,
   "metadata": {},
   "outputs": [
    {
     "data": {
      "text/plain": [
       "('470364da-1c38-4a5b-bb5e-10c82c3b0526',\n",
       " '03fff813-7a5e-4090-a830-91eb94d31584',\n",
       " '525cc5af-4401-42c4-bfb6-01b579b7a4b6',\n",
       " 'a3962362-390f-4e3e-b242-6cbd31af4009')"
      ]
     },
     "execution_count": 6,
     "metadata": {},
     "output_type": "execute_result"
    }
   ],
   "source": [
    "RE(plan())"
   ]
  },
  {
   "cell_type": "code",
   "execution_count": null,
   "metadata": {},
   "outputs": [],
   "source": []
  }
 ],
 "metadata": {
  "kernelspec": {
   "display_name": "Python 3",
   "language": "python",
   "name": "python3"
  },
  "language_info": {
   "codemirror_mode": {
    "name": "ipython",
    "version": 3
   },
   "file_extension": ".py",
   "mimetype": "text/x-python",
   "name": "python",
   "nbconvert_exporter": "python",
   "pygments_lexer": "ipython3",
   "version": "3.8.5"
  }
 },
 "nbformat": 4,
 "nbformat_minor": 4
}
