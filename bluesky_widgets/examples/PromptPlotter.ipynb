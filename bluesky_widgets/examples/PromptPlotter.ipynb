{
 "cells": [
  {
   "cell_type": "code",
   "execution_count": null,
   "metadata": {},
   "outputs": [],
   "source": [
    "from bluesky import RunEngine\n",
    "from bluesky.plans import scan\n",
    "from ophyd.sim import motor, det\n",
    "from bluesky_widgets.utils.streaming import stream_documents_into_runs\n",
    "from bluesky_widgets.models.plot_builders import PromptPlotter\n",
    "from bluesky_widgets.jupyter.figures import JupyterFigures\n",
    "\n",
    "from bluesky_widgets.models.plot_specs import LineSpec, AxesSpec, FigureSpec\n",
    "\n",
    "\n",
    "def prompt_line_builder(run):                                                   \n",
    "    \"\"\"                                                                         \n",
    "    This is a simple example.                                                   \n",
    "\n",
    "    This makes a hard-coded assumption that the data has columns \"motor\" and    \n",
    "    \"det\" in the primary stream.                                                \n",
    "    \"\"\"                                                                         \n",
    "\n",
    "    def func(run):                                                              \n",
    "        \"Return any arrays x, y. They must be of equal length.\"                 \n",
    "        # *Lazily* read the data so that large arrays are not loaded unless     \n",
    "        # the yare used.                                                        \n",
    "        ds = run.primary.read()                                                 \n",
    "        # Do any computation you want in here....                               \n",
    "        return ds[\"motor\"], ds[\"det\"]                                           \n",
    "\n",
    "    label = f\"Scan {run.metadata['start']['scan_id']}\"                          \n",
    "    line_spec = LineSpec(func, run, label=label)                           \n",
    "    axes_spec = AxesSpec(lines=[line_spec], x_label=\"motor\", y_label=\"det\")     \n",
    "    figure_spec = FigureSpec((axes_spec,), title=\"det v motor\")                 \n",
    "\n",
    "    return figure_spec\n",
    "\n",
    "RE = RunEngine()\n",
    "model = PromptPlotter([prompt_line_builder])\n",
    "view = JupyterFigures(model.figures)\n",
    "RE.subscribe(stream_documents_into_runs(model.add_run))"
   ]
  },
  {
   "cell_type": "code",
   "execution_count": null,
   "metadata": {},
   "outputs": [],
   "source": [
    "view"
   ]
  },
  {
   "cell_type": "code",
   "execution_count": null,
   "metadata": {},
   "outputs": [],
   "source": [
    "model.figures.clear()"
   ]
  },
  {
   "cell_type": "code",
   "execution_count": null,
   "metadata": {},
   "outputs": [],
   "source": [
    "motor.delay = 0.1  # Turn up simulated motor movement delay."
   ]
  },
  {
   "cell_type": "code",
   "execution_count": null,
   "metadata": {},
   "outputs": [],
   "source": [
    "def plan():\n",
    "    for i in range(1, 5):\n",
    "        yield from scan([det], motor, -1, 1, 1 + 2 * i)"
   ]
  },
  {
   "cell_type": "code",
   "execution_count": null,
   "metadata": {},
   "outputs": [],
   "source": [
    "RE(plan())"
   ]
  },
  {
   "cell_type": "code",
   "execution_count": null,
   "metadata": {},
   "outputs": [],
   "source": [
    "del model.figures[2]"
   ]
  },
  {
   "cell_type": "code",
   "execution_count": null,
   "metadata": {},
   "outputs": [],
   "source": [
    "model.figures[0].axes[0].by_label[\"Scan 1\"][0].style.update(color=\"red\")"
   ]
  },
  {
   "cell_type": "code",
   "execution_count": null,
   "metadata": {},
   "outputs": [],
   "source": [
    "# Generate example data. (This takes a couple seconds to simulate some scans.)\n",
    "from bluesky_widgets.examples.utils.generate_msgpack_data import get_catalog\n",
    "catalog = get_catalog()\n",
    "scans = catalog.search({\"plan_name\": \"scan\"})"
   ]
  },
  {
   "cell_type": "code",
   "execution_count": null,
   "metadata": {},
   "outputs": [],
   "source": [
    "model.add_run(scans[-2])"
   ]
  },
  {
   "cell_type": "code",
   "execution_count": null,
   "metadata": {},
   "outputs": [],
   "source": []
  }
 ],
 "metadata": {
  "kernelspec": {
   "display_name": "Python 3",
   "language": "python",
   "name": "python3"
  },
  "language_info": {
   "codemirror_mode": {
    "name": "ipython",
    "version": 3
   },
   "file_extension": ".py",
   "mimetype": "text/x-python",
   "name": "python",
   "nbconvert_exporter": "python",
   "pygments_lexer": "ipython3",
   "version": "3.8.5"
  }
 },
 "nbformat": 4,
 "nbformat_minor": 4
}
