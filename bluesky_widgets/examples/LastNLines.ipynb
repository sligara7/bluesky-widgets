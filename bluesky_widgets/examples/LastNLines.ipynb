{
 "cells": [
  {
   "cell_type": "code",
   "execution_count": 1,
   "metadata": {},
   "outputs": [],
   "source": [
    "from bluesky import RunEngine\n",
    "from bluesky.plans import scan\n",
    "from ophyd.sim import motor, det\n",
    "from bluesky_widgets.utils.streaming import connect_dispatcher_to_list_of_runs\n",
    "from bluesky_widgets.models.plot_builders import LastNLines\n",
    "from bluesky_widgets.jupyter.figures import JupyterFigures\n",
    "\n",
    "RE = RunEngine()\n",
    "model = LastNLines(\"motor\", \"det\", 3)\n",
    "view = JupyterFigures(model.figures)\n",
    "connect_dispatcher_to_list_of_runs(RE.dispatcher, model.runs)"
   ]
  },
  {
   "cell_type": "code",
   "execution_count": 2,
   "metadata": {},
   "outputs": [
    {
     "data": {
      "application/vnd.jupyter.widget-view+json": {
       "model_id": "6e61c598fc6b4ea4ba36ed134cb54451",
       "version_major": 2,
       "version_minor": 0
      },
      "text/plain": [
       "JupyterFigures()"
      ]
     },
     "metadata": {},
     "output_type": "display_data"
    }
   ],
   "source": [
    "view"
   ]
  },
  {
   "cell_type": "code",
   "execution_count": 3,
   "metadata": {},
   "outputs": [],
   "source": [
    "motor.delay = 0.1  # Turn up simulated motor movement delay."
   ]
  },
  {
   "cell_type": "code",
   "execution_count": 4,
   "metadata": {},
   "outputs": [],
   "source": [
    "def plan():\n",
    "    for i in range(1, 5):\n",
    "        yield from scan([det], motor, -1, 1, 1 + 2 * i)"
   ]
  },
  {
   "cell_type": "code",
   "execution_count": 5,
   "metadata": {},
   "outputs": [
    {
     "data": {
      "text/plain": [
       "('3db6c0af-0cff-4f0d-ba21-f8ac954ab88f',\n",
       " '0947e30e-519e-48a9-a308-ea61fa436117',\n",
       " '3b1605fb-5763-4417-ab20-59abf4a59ea0',\n",
       " 'c46330cc-b8c4-40ee-8a9d-026ca44dd48a')"
      ]
     },
     "execution_count": 5,
     "metadata": {},
     "output_type": "execute_result"
    }
   ],
   "source": [
    "RE(plan())"
   ]
  },
  {
   "cell_type": "code",
   "execution_count": null,
   "metadata": {},
   "outputs": [],
   "source": [
    "model.figures[0].axes[0].by_label[\"Scan 8\"][0].artist_kwargs.update(color=\"blue\")"
   ]
  },
  {
   "cell_type": "code",
   "execution_count": null,
   "metadata": {},
   "outputs": [],
   "source": [
    "# Generate example data. (This takes a couple seconds to simulate some scans.)\n",
    "from bluesky_widgets.examples.utils.generate_msgpack_data import get_catalog\n",
    "catalog = get_catalog()\n",
    "scans = catalog.search({\"plan_name\": \"scan\"})"
   ]
  },
  {
   "cell_type": "code",
   "execution_count": null,
   "metadata": {},
   "outputs": [],
   "source": [
    "model.pinned_runs.append(scans[-1])"
   ]
  },
  {
   "cell_type": "code",
   "execution_count": null,
   "metadata": {},
   "outputs": [],
   "source": [
    "model.pinned_runs.clear()"
   ]
  },
  {
   "cell_type": "code",
   "execution_count": 6,
   "metadata": {},
   "outputs": [],
   "source": [
    "model.figures[0].axes[0].lines.clear()"
   ]
  },
  {
   "cell_type": "code",
   "execution_count": null,
   "metadata": {},
   "outputs": [],
   "source": []
  }
 ],
 "metadata": {
  "kernelspec": {
   "display_name": "Python 3",
   "language": "python",
   "name": "python3"
  },
  "language_info": {
   "codemirror_mode": {
    "name": "ipython",
    "version": 3
   },
   "file_extension": ".py",
   "mimetype": "text/x-python",
   "name": "python",
   "nbconvert_exporter": "python",
   "pygments_lexer": "ipython3",
   "version": "3.8.5"
  }
 },
 "nbformat": 4,
 "nbformat_minor": 4
}
