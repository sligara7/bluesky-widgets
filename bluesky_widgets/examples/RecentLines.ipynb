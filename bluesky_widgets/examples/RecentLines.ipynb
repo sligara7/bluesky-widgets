{
 "cells": [
  {
   "cell_type": "code",
   "execution_count": null,
   "metadata": {},
   "outputs": [],
   "source": [
    "from bluesky import RunEngine\n",
    "from bluesky.plans import scan\n",
    "from ophyd.sim import motor, det\n",
    "\n",
    "from bluesky_widgets.models.plot_builders import RecentLines\n",
    "from bluesky_widgets.jupyter.figures import JupyterFigure\n",
    "from bluesky_widgets.utils.streaming import stream_documents_into_runs\n",
    "\n",
    "RE = RunEngine()\n",
    "model = RecentLines(3, \"motor\", \"det\")\n",
    "view = JupyterFigure(model.figure)\n",
    "RE.subscribe(stream_documents_into_runs(model.add_run))"
   ]
  },
  {
   "cell_type": "code",
   "execution_count": null,
   "metadata": {},
   "outputs": [],
   "source": [
    "view"
   ]
  },
  {
   "cell_type": "code",
   "execution_count": null,
   "metadata": {},
   "outputs": [],
   "source": [
    "motor.delay = 0.5  # Turn up simulated motor movement delay."
   ]
  },
  {
   "cell_type": "code",
   "execution_count": null,
   "metadata": {},
   "outputs": [],
   "source": [
    "def plan():\n",
    "    for i in range(1, 5):\n",
    "        yield from scan([det], motor, -1, 1, 1 + 2 * i)"
   ]
  },
  {
   "cell_type": "code",
   "execution_count": null,
   "metadata": {},
   "outputs": [],
   "source": [
    "RE(plan())"
   ]
  },
  {
   "cell_type": "code",
   "execution_count": null,
   "metadata": {},
   "outputs": [],
   "source": [
    "model.figure.axes[0].by_label[\"Scan 4\"][0].style.update(color=\"red\", label=\"Hello!\")"
   ]
  },
  {
   "cell_type": "code",
   "execution_count": null,
   "metadata": {},
   "outputs": [],
   "source": [
    "del model.runs[1]"
   ]
  },
  {
   "cell_type": "code",
   "execution_count": null,
   "metadata": {},
   "outputs": [],
   "source": [
    "RE(plan())"
   ]
  },
  {
   "cell_type": "code",
   "execution_count": null,
   "metadata": {},
   "outputs": [],
   "source": [
    "# Generate example data. (This takes a couple seconds to simulate some scans.)\n",
    "from bluesky_widgets.examples.utils.generate_msgpack_data import get_catalog\n",
    "catalog = get_catalog()\n",
    "scans = catalog.search({\"plan_name\": \"scan\"})"
   ]
  },
  {
   "cell_type": "code",
   "execution_count": null,
   "metadata": {},
   "outputs": [],
   "source": [
    "model.add_run(scans[-1], pinned=True)"
   ]
  },
  {
   "cell_type": "code",
   "execution_count": null,
   "metadata": {},
   "outputs": [],
   "source": [
    "RE(plan())"
   ]
  },
  {
   "cell_type": "code",
   "execution_count": null,
   "metadata": {},
   "outputs": [],
   "source": []
  }
 ],
 "metadata": {
  "kernelspec": {
   "display_name": "Python 3",
   "language": "python",
   "name": "python3"
  },
  "language_info": {
   "codemirror_mode": {
    "name": "ipython",
    "version": 3
   },
   "file_extension": ".py",
   "mimetype": "text/x-python",
   "name": "python",
   "nbconvert_exporter": "python",
   "pygments_lexer": "ipython3",
   "version": "3.8.5"
  }
 },
 "nbformat": 4,
 "nbformat_minor": 4
}
