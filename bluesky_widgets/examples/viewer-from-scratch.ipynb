{
 "cells": [
  {
   "cell_type": "code",
   "execution_count": 7,
   "metadata": {},
   "outputs": [
    {
     "data": {
      "application/vnd.jupyter.widget-view+json": {
       "model_id": "350f4086754047408f66ca8d25e03db4",
       "version_major": 2,
       "version_minor": 0
      },
      "text/plain": [
       "JupyterViewer(children=(_JupyterViewerTabs(children=(_JupyterFigureTab(children=(Canvas(toolbar=Toolbar(toolit…"
      ]
     },
     "metadata": {},
     "output_type": "display_data"
    }
   ],
   "source": [
    "from bluesky_widgets.models.viewer import Viewer\n",
    "from bluesky_widgets.models.plot_builders import LastNLines, prompt_line_builder\n",
    "from bluesky_widgets.jupyter.viewer import JupyterViewer\n",
    "\n",
    "model = Viewer()\n",
    "model.streaming_builders.append(LastNLines(\"motor\", \"det\", 3))\n",
    "model.prompt_builders.append(prompt_line_builder)\n",
    "view = JupyterViewer(model)\n",
    "from databroker import catalog\n",
    "results = catalog[\"example\"].search({\"plan_name\": \"scan\"})\n",
    "run = results[-1]\n",
    "model.runs.append(run)\n",
    "\n",
    "view"
   ]
  },
  {
   "cell_type": "code",
   "execution_count": 22,
   "metadata": {},
   "outputs": [],
   "source": [
    "model.runs.append(run)"
   ]
  },
  {
   "cell_type": "code",
   "execution_count": 10,
   "metadata": {},
   "outputs": [
    {
     "data": {
      "text/plain": [
       "FigureSpecList([FigureSpec(axes_specs=(AxesSpec(x_label=motor, y_label=det, uuid=adc6ffaf-9517-4fb9-8377-c7fa4a08f774),), title=det v motor, uuid=243fddbd-5e76-45d8-beaf-8514e74469ee)])"
      ]
     },
     "execution_count": 10,
     "metadata": {},
     "output_type": "execute_result"
    }
   ],
   "source": [
    "model.fig"
   ]
  },
  {
   "cell_type": "code",
   "execution_count": 13,
   "metadata": {},
   "outputs": [],
   "source": [
    "from bluesky_widgets.examples.utils.generate_msgpack_data import get_catalog\n",
    "catalog = get_catalog()"
   ]
  },
  {
   "cell_type": "code",
   "execution_count": 26,
   "metadata": {},
   "outputs": [],
   "source": [
    "model.lines[1].artist_kwargs = {\"label\": \"Hello Ron\", \"color\": \"black\"}"
   ]
  },
  {
   "cell_type": "code",
   "execution_count": null,
   "metadata": {},
   "outputs": [],
   "source": []
  }
 ],
 "metadata": {
  "kernelspec": {
   "display_name": "Python 3",
   "language": "python",
   "name": "python3"
  },
  "language_info": {
   "codemirror_mode": {
    "name": "ipython",
    "version": 3
   },
   "file_extension": ".py",
   "mimetype": "text/x-python",
   "name": "python",
   "nbconvert_exporter": "python",
   "pygments_lexer": "ipython3",
   "version": "3.8.5"
  }
 },
 "nbformat": 4,
 "nbformat_minor": 4
}
